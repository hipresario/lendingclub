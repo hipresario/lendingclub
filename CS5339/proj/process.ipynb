{
 "cells": [
  {
   "cell_type": "code",
   "execution_count": 1,
   "metadata": {
    "collapsed": false,
    "deletable": true,
    "editable": true
   },
   "outputs": [
    {
     "name": "stdout",
     "output_type": "stream",
     "text": [
      "['MORTGAGE' 'NONE' 'OTHER' 'OWN' 'RENT']\n",
      "['BAD' 'GOOD']\n",
      "['car' 'credit_card' 'debt_consolidation' 'educational' 'home_improvement'\n",
      " 'house' 'major_purchase' 'medical' 'moving' 'other' 'renewable_energy'\n",
      " 'small_business' 'vacation' 'wedding']\n",
      "(552,)\n",
      "Done Step 1\n",
      "rows:66694 columns:19\n",
      "[35000.0, 0.24890000000000001, 1388.45, 35.0, 10.0, 4.0, 7141778.0, 1.0, 1.0, 13.0, 80.0, 34.990000000000002, 18.0, 551.0, 10.0, 49.0, 1207359.0, 1.044, 1.0]\n",
      "Done Step 2\n"
     ]
    }
   ],
   "source": [
    "import numpy as np\n",
    "\n",
    "all_data=np.genfromtxt('loan_2010_12.csv', delimiter=',', dtype=None)\n",
    "\n",
    "#1) convert category to number.\n",
    "\n",
    "#remove header\n",
    "all_data=np.delete(all_data, 0, axis=0)\n",
    "\n",
    "#\n",
    "home_owner_arr=np.unique(all_data[:,5])\n",
    "loan_status_arr=np.unique(all_data[:,8]) #{'BAD':0, 'GOOD':1}\n",
    "purpose_arr=np.unique(all_data[:,9])\n",
    "earliest_cr_line_arr=np.unique(all_data[:,13])\n",
    "\n",
    "print(home_owner_arr)\n",
    "print(loan_status_arr)\n",
    "print(purpose_arr)\n",
    "print(earliest_cr_line_arr.shape)\n",
    "\n",
    "rows=all_data.shape[0]\n",
    "for row in range(0, rows):\n",
    "    line=all_data[row]\n",
    "    \n",
    "    line[5]= np.where(home_owner_arr==line[5])[0][0]\n",
    "    line[8]= (np.where(loan_status_arr==line[8])[0][0])\n",
    "    line[9]= np.where(purpose_arr==line[9])[0][0]\n",
    "    line[13]= np.where(earliest_cr_line_arr==line[13])[0][0]\n",
    "\n",
    "\n",
    "np.savetxt('step1.csv', all_data, fmt='%s', delimiter=',')\n",
    "print('Done Step 1')\n",
    "\n",
    "\n",
    "#2) nomalize the data.\n",
    "all_data=np.genfromtxt('step1.csv', delimiter=',')\n",
    "\n",
    "rows=all_data.shape[0]\n",
    "columns=all_data.shape[1]\n",
    "\n",
    "print ('rows:'+ str(rows) + ' columns:'+ str(columns))\n",
    "\n",
    "max_line= range(columns)\n",
    "for column in range(0, columns):\n",
    "    max_line[column]=np.amax(all_data[:,column])\n",
    "\n",
    "print (max_line)\n",
    "\n",
    "for row in range(0, rows):\n",
    "    line=all_data[row]\n",
    "    \n",
    "    for column in range(0, columns):\n",
    "        if column==8:\n",
    "            line[column]=int(line[column])\n",
    "            continue\n",
    "        line[column]= round(line[column]/max_line[column], 5)\n",
    "\n",
    "        \n",
    "indices = np.random.permutation(rows)\n",
    "train_idx, test_idx = indices[:rows-6000], indices[rows-6000:]\n",
    "train_data, test_data = all_data[train_idx,:], all_data[test_idx,:]\n",
    "    \n",
    "np.savetxt('train.csv', train_data, fmt='%s', delimiter=',')\n",
    "np.savetxt('test.csv', test_data, fmt='%s', delimiter=',')\n",
    "\n",
    "print('Done Step 2')"
   ]
  },
  {
   "cell_type": "code",
   "execution_count": null,
   "metadata": {
    "collapsed": true,
    "deletable": true,
    "editable": true
   },
   "outputs": [],
   "source": [
    ""
   ]
  }
 ],
 "metadata": {
  "kernelspec": {
   "display_name": "Python 2",
   "language": "python",
   "name": "python2"
  },
  "language_info": {
   "codemirror_mode": {
    "name": "ipython",
    "version": 2.0
   },
   "file_extension": ".py",
   "mimetype": "text/x-python",
   "name": "python",
   "nbconvert_exporter": "python",
   "pygments_lexer": "ipython2",
   "version": "2.7.12"
  }
 },
 "nbformat": 4,
 "nbformat_minor": 0
}